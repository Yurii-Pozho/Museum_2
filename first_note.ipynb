{
  "nbformat": 4,
  "nbformat_minor": 0,
  "metadata": {
    "colab": {
      "provenance": [],
      "toc_visible": true,
      "authorship_tag": "ABX9TyNdqTZdlOUcAYz7RWOAZMFQ",
      "include_colab_link": true
    },
    "kernelspec": {
      "name": "python3",
      "display_name": "Python 3"
    },
    "language_info": {
      "name": "python"
    }
  },
  "cells": [
    {
      "cell_type": "markdown",
      "metadata": {
        "id": "view-in-github",
        "colab_type": "text"
      },
      "source": [
        "<a href=\"https://colab.research.google.com/github/Yurii-Pozho/Museum_2/blob/master/first_note.ipynb\" target=\"_parent\"><img src=\"https://colab.research.google.com/assets/colab-badge.svg\" alt=\"Open In Colab\"/></a>"
      ]
    },
    {
      "cell_type": "markdown",
      "source": [
        "# **Тест**\n",
        "\n",
        "\n",
        "\n"
      ],
      "metadata": {
        "id": "yM53mBg-VFEH"
      }
    },
    {
      "cell_type": "code",
      "execution_count": 3,
      "metadata": {
        "colab": {
          "base_uri": "https://localhost:8080/"
        },
        "id": "IDOngQzfTmFb",
        "outputId": "e1d1311a-9608-4094-c144-2e81196787b0"
      },
      "outputs": [
        {
          "output_type": "stream",
          "name": "stdout",
          "text": [
            "8\n"
          ]
        }
      ],
      "source": [
        "n = 5\n",
        "s = 3\n",
        "res = n + s\n",
        "print(res)"
      ]
    },
    {
      "cell_type": "markdown",
      "source": [
        "опа"
      ],
      "metadata": {
        "id": "LBDg1ZRhd8yo"
      }
    }
  ]
}